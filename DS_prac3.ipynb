{
 "cells": [
  {
   "cell_type": "code",
   "execution_count": 1,
   "id": "28b94354-a7c7-49bc-b2c2-46640a744c27",
   "metadata": {},
   "outputs": [],
   "source": [
    "import numpy as np\n",
    "import pandas as pd"
   ]
  },
  {
   "cell_type": "code",
   "execution_count": 2,
   "id": "7945a0f2-b1af-474a-8572-cee5a14d20df",
   "metadata": {},
   "outputs": [
    {
     "data": {
      "text/html": [
       "<div>\n",
       "<style scoped>\n",
       "    .dataframe tbody tr th:only-of-type {\n",
       "        vertical-align: middle;\n",
       "    }\n",
       "\n",
       "    .dataframe tbody tr th {\n",
       "        vertical-align: top;\n",
       "    }\n",
       "\n",
       "    .dataframe thead th {\n",
       "        text-align: right;\n",
       "    }\n",
       "</style>\n",
       "<table border=\"1\" class=\"dataframe\">\n",
       "  <thead>\n",
       "    <tr style=\"text-align: right;\">\n",
       "      <th></th>\n",
       "      <th>name</th>\n",
       "      <th>rank</th>\n",
       "      <th>year</th>\n",
       "      <th>industry</th>\n",
       "      <th>sector</th>\n",
       "      <th>headquarters_state</th>\n",
       "      <th>headquarters_city</th>\n",
       "      <th>market_value_mil</th>\n",
       "      <th>revenue_mil</th>\n",
       "      <th>profit_mil</th>\n",
       "      <th>asset_mil</th>\n",
       "      <th>employees</th>\n",
       "      <th>founder_is_ceo</th>\n",
       "      <th>female_ceo</th>\n",
       "      <th>newcomer_to_fortune_500</th>\n",
       "      <th>global_500</th>\n",
       "    </tr>\n",
       "  </thead>\n",
       "  <tbody>\n",
       "    <tr>\n",
       "      <th>0</th>\n",
       "      <td>General Motors Corporation</td>\n",
       "      <td>1</td>\n",
       "      <td>1996</td>\n",
       "      <td>Motor Vehicles &amp; Parts</td>\n",
       "      <td>NaN</td>\n",
       "      <td>MI</td>\n",
       "      <td>NaN</td>\n",
       "      <td>NaN</td>\n",
       "      <td>168828.6</td>\n",
       "      <td>NaN</td>\n",
       "      <td>NaN</td>\n",
       "      <td>NaN</td>\n",
       "      <td>NaN</td>\n",
       "      <td>NaN</td>\n",
       "      <td>NaN</td>\n",
       "      <td>NaN</td>\n",
       "    </tr>\n",
       "    <tr>\n",
       "      <th>1</th>\n",
       "      <td>Ford Motor Company</td>\n",
       "      <td>2</td>\n",
       "      <td>1996</td>\n",
       "      <td>Motor Vehicles &amp; Parts</td>\n",
       "      <td>NaN</td>\n",
       "      <td>MI</td>\n",
       "      <td>NaN</td>\n",
       "      <td>NaN</td>\n",
       "      <td>137137.0</td>\n",
       "      <td>NaN</td>\n",
       "      <td>NaN</td>\n",
       "      <td>NaN</td>\n",
       "      <td>NaN</td>\n",
       "      <td>NaN</td>\n",
       "      <td>NaN</td>\n",
       "      <td>NaN</td>\n",
       "    </tr>\n",
       "    <tr>\n",
       "      <th>2</th>\n",
       "      <td>Exxon Corporation</td>\n",
       "      <td>3</td>\n",
       "      <td>1996</td>\n",
       "      <td>Petroleum Refining</td>\n",
       "      <td>NaN</td>\n",
       "      <td>TX</td>\n",
       "      <td>NaN</td>\n",
       "      <td>NaN</td>\n",
       "      <td>110009.0</td>\n",
       "      <td>NaN</td>\n",
       "      <td>NaN</td>\n",
       "      <td>NaN</td>\n",
       "      <td>NaN</td>\n",
       "      <td>NaN</td>\n",
       "      <td>NaN</td>\n",
       "      <td>NaN</td>\n",
       "    </tr>\n",
       "    <tr>\n",
       "      <th>3</th>\n",
       "      <td>Wal-Mart Stores, Inc.</td>\n",
       "      <td>4</td>\n",
       "      <td>1996</td>\n",
       "      <td>General Merchandisers</td>\n",
       "      <td>NaN</td>\n",
       "      <td>AR</td>\n",
       "      <td>NaN</td>\n",
       "      <td>NaN</td>\n",
       "      <td>93627.0</td>\n",
       "      <td>NaN</td>\n",
       "      <td>NaN</td>\n",
       "      <td>NaN</td>\n",
       "      <td>NaN</td>\n",
       "      <td>NaN</td>\n",
       "      <td>NaN</td>\n",
       "      <td>NaN</td>\n",
       "    </tr>\n",
       "    <tr>\n",
       "      <th>4</th>\n",
       "      <td>AT&amp;T Corp.</td>\n",
       "      <td>5</td>\n",
       "      <td>1996</td>\n",
       "      <td>Telecommunications</td>\n",
       "      <td>NaN</td>\n",
       "      <td>NY</td>\n",
       "      <td>NaN</td>\n",
       "      <td>NaN</td>\n",
       "      <td>79609.0</td>\n",
       "      <td>NaN</td>\n",
       "      <td>NaN</td>\n",
       "      <td>NaN</td>\n",
       "      <td>NaN</td>\n",
       "      <td>NaN</td>\n",
       "      <td>NaN</td>\n",
       "      <td>NaN</td>\n",
       "    </tr>\n",
       "    <tr>\n",
       "      <th>...</th>\n",
       "      <td>...</td>\n",
       "      <td>...</td>\n",
       "      <td>...</td>\n",
       "      <td>...</td>\n",
       "      <td>...</td>\n",
       "      <td>...</td>\n",
       "      <td>...</td>\n",
       "      <td>...</td>\n",
       "      <td>...</td>\n",
       "      <td>...</td>\n",
       "      <td>...</td>\n",
       "      <td>...</td>\n",
       "      <td>...</td>\n",
       "      <td>...</td>\n",
       "      <td>...</td>\n",
       "      <td>...</td>\n",
       "    </tr>\n",
       "    <tr>\n",
       "      <th>13935</th>\n",
       "      <td>KKR</td>\n",
       "      <td>496</td>\n",
       "      <td>2023</td>\n",
       "      <td>Securities</td>\n",
       "      <td>Financials</td>\n",
       "      <td>NY</td>\n",
       "      <td>New York</td>\n",
       "      <td>45225.0</td>\n",
       "      <td>7273.0</td>\n",
       "      <td>841.0</td>\n",
       "      <td>277077.0</td>\n",
       "      <td>4150.0</td>\n",
       "      <td>no</td>\n",
       "      <td>no</td>\n",
       "      <td>no</td>\n",
       "      <td>no</td>\n",
       "    </tr>\n",
       "    <tr>\n",
       "      <th>13936</th>\n",
       "      <td>Equinix</td>\n",
       "      <td>497</td>\n",
       "      <td>2023</td>\n",
       "      <td>Real Estate</td>\n",
       "      <td>Financials</td>\n",
       "      <td>CA</td>\n",
       "      <td>Redwood City</td>\n",
       "      <td>66873.0</td>\n",
       "      <td>7263.0</td>\n",
       "      <td>704.0</td>\n",
       "      <td>30311.0</td>\n",
       "      <td>12097.0</td>\n",
       "      <td>no</td>\n",
       "      <td>no</td>\n",
       "      <td>no</td>\n",
       "      <td>no</td>\n",
       "    </tr>\n",
       "    <tr>\n",
       "      <th>13937</th>\n",
       "      <td>Sonoco Products</td>\n",
       "      <td>498</td>\n",
       "      <td>2023</td>\n",
       "      <td>Packaging, Containers</td>\n",
       "      <td>Materials</td>\n",
       "      <td>SC</td>\n",
       "      <td>Hartsville</td>\n",
       "      <td>5975.0</td>\n",
       "      <td>7251.0</td>\n",
       "      <td>466.0</td>\n",
       "      <td>7053.0</td>\n",
       "      <td>22000.0</td>\n",
       "      <td>no</td>\n",
       "      <td>no</td>\n",
       "      <td>yes</td>\n",
       "      <td>no</td>\n",
       "    </tr>\n",
       "    <tr>\n",
       "      <th>13938</th>\n",
       "      <td>ServiceNow</td>\n",
       "      <td>499</td>\n",
       "      <td>2023</td>\n",
       "      <td>Computer Software</td>\n",
       "      <td>Technology</td>\n",
       "      <td>CA</td>\n",
       "      <td>Santa Clara</td>\n",
       "      <td>94338.0</td>\n",
       "      <td>7245.0</td>\n",
       "      <td>325.0</td>\n",
       "      <td>13299.0</td>\n",
       "      <td>20433.0</td>\n",
       "      <td>no</td>\n",
       "      <td>no</td>\n",
       "      <td>yes</td>\n",
       "      <td>no</td>\n",
       "    </tr>\n",
       "    <tr>\n",
       "      <th>13939</th>\n",
       "      <td>Robert Half International</td>\n",
       "      <td>500</td>\n",
       "      <td>2023</td>\n",
       "      <td>Temporary Help</td>\n",
       "      <td>Business Services</td>\n",
       "      <td>CA</td>\n",
       "      <td>Menlo Park</td>\n",
       "      <td>8677.0</td>\n",
       "      <td>7238.0</td>\n",
       "      <td>658.0</td>\n",
       "      <td>2965.0</td>\n",
       "      <td>16300.0</td>\n",
       "      <td>no</td>\n",
       "      <td>no</td>\n",
       "      <td>no</td>\n",
       "      <td>no</td>\n",
       "    </tr>\n",
       "  </tbody>\n",
       "</table>\n",
       "<p>13940 rows × 16 columns</p>\n",
       "</div>"
      ],
      "text/plain": [
       "                             name  rank  year                industry  \\\n",
       "0      General Motors Corporation     1  1996  Motor Vehicles & Parts   \n",
       "1              Ford Motor Company     2  1996  Motor Vehicles & Parts   \n",
       "2               Exxon Corporation     3  1996      Petroleum Refining   \n",
       "3           Wal-Mart Stores, Inc.     4  1996   General Merchandisers   \n",
       "4                      AT&T Corp.     5  1996      Telecommunications   \n",
       "...                           ...   ...   ...                     ...   \n",
       "13935                         KKR   496  2023              Securities   \n",
       "13936                     Equinix   497  2023             Real Estate   \n",
       "13937             Sonoco Products   498  2023   Packaging, Containers   \n",
       "13938                  ServiceNow   499  2023       Computer Software   \n",
       "13939   Robert Half International   500  2023          Temporary Help   \n",
       "\n",
       "                  sector headquarters_state headquarters_city  \\\n",
       "0                    NaN                 MI               NaN   \n",
       "1                    NaN                 MI               NaN   \n",
       "2                    NaN                 TX               NaN   \n",
       "3                    NaN                 AR               NaN   \n",
       "4                    NaN                 NY               NaN   \n",
       "...                  ...                ...               ...   \n",
       "13935         Financials                 NY          New York   \n",
       "13936         Financials                 CA      Redwood City   \n",
       "13937          Materials                 SC        Hartsville   \n",
       "13938         Technology                 CA       Santa Clara   \n",
       "13939  Business Services                 CA        Menlo Park   \n",
       "\n",
       "       market_value_mil  revenue_mil  profit_mil  asset_mil  employees  \\\n",
       "0                   NaN     168828.6         NaN        NaN        NaN   \n",
       "1                   NaN     137137.0         NaN        NaN        NaN   \n",
       "2                   NaN     110009.0         NaN        NaN        NaN   \n",
       "3                   NaN      93627.0         NaN        NaN        NaN   \n",
       "4                   NaN      79609.0         NaN        NaN        NaN   \n",
       "...                 ...          ...         ...        ...        ...   \n",
       "13935           45225.0       7273.0       841.0   277077.0     4150.0   \n",
       "13936           66873.0       7263.0       704.0    30311.0    12097.0   \n",
       "13937            5975.0       7251.0       466.0     7053.0    22000.0   \n",
       "13938           94338.0       7245.0       325.0    13299.0    20433.0   \n",
       "13939            8677.0       7238.0       658.0     2965.0    16300.0   \n",
       "\n",
       "      founder_is_ceo female_ceo newcomer_to_fortune_500 global_500  \n",
       "0                NaN        NaN                     NaN        NaN  \n",
       "1                NaN        NaN                     NaN        NaN  \n",
       "2                NaN        NaN                     NaN        NaN  \n",
       "3                NaN        NaN                     NaN        NaN  \n",
       "4                NaN        NaN                     NaN        NaN  \n",
       "...              ...        ...                     ...        ...  \n",
       "13935             no         no                      no         no  \n",
       "13936             no         no                      no         no  \n",
       "13937             no         no                     yes         no  \n",
       "13938             no         no                     yes         no  \n",
       "13939             no         no                      no         no  \n",
       "\n",
       "[13940 rows x 16 columns]"
      ]
     },
     "execution_count": 2,
     "metadata": {},
     "output_type": "execute_result"
    }
   ],
   "source": [
    "data = pd.read_csv('Fortune 500 Companies.csv')\n",
    "data"
   ]
  },
  {
   "cell_type": "code",
   "execution_count": 3,
   "id": "f8784107-5282-4068-8564-9e45781a4786",
   "metadata": {},
   "outputs": [
    {
     "name": "stdout",
     "output_type": "stream",
     "text": [
      "<class 'pandas.core.frame.DataFrame'>\n",
      "RangeIndex: 13940 entries, 0 to 13939\n",
      "Data columns (total 16 columns):\n",
      " #   Column                   Non-Null Count  Dtype  \n",
      "---  ------                   --------------  -----  \n",
      " 0   name                     13940 non-null  object \n",
      " 1   rank                     13940 non-null  int64  \n",
      " 2   year                     13940 non-null  int64  \n",
      " 3   industry                 13940 non-null  object \n",
      " 4   sector                   4500 non-null   object \n",
      " 5   headquarters_state       13940 non-null  object \n",
      " 6   headquarters_city        7495 non-null   object \n",
      " 7   market_value_mil         5185 non-null   float64\n",
      " 8   revenue_mil              13940 non-null  float64\n",
      " 9   profit_mil               5497 non-null   float64\n",
      " 10  asset_mil                5500 non-null   float64\n",
      " 11  employees                4500 non-null   float64\n",
      " 12  founder_is_ceo           4500 non-null   object \n",
      " 13  female_ceo               4500 non-null   object \n",
      " 14  newcomer_to_fortune_500  4500 non-null   object \n",
      " 15  global_500               4000 non-null   object \n",
      "dtypes: float64(5), int64(2), object(9)\n",
      "memory usage: 1.7+ MB\n"
     ]
    }
   ],
   "source": [
    "data.info()"
   ]
  },
  {
   "cell_type": "code",
   "execution_count": 4,
   "id": "d10279b7-cbd3-4bb8-a9e0-c2acb44e5cd6",
   "metadata": {},
   "outputs": [
    {
     "data": {
      "text/html": [
       "<div>\n",
       "<style scoped>\n",
       "    .dataframe tbody tr th:only-of-type {\n",
       "        vertical-align: middle;\n",
       "    }\n",
       "\n",
       "    .dataframe tbody tr th {\n",
       "        vertical-align: top;\n",
       "    }\n",
       "\n",
       "    .dataframe thead th {\n",
       "        text-align: right;\n",
       "    }\n",
       "</style>\n",
       "<table border=\"1\" class=\"dataframe\">\n",
       "  <thead>\n",
       "    <tr style=\"text-align: right;\">\n",
       "      <th></th>\n",
       "      <th>rank</th>\n",
       "      <th>year</th>\n",
       "      <th>market_value_mil</th>\n",
       "      <th>revenue_mil</th>\n",
       "      <th>profit_mil</th>\n",
       "      <th>asset_mil</th>\n",
       "      <th>employees</th>\n",
       "    </tr>\n",
       "  </thead>\n",
       "  <tbody>\n",
       "    <tr>\n",
       "      <th>count</th>\n",
       "      <td>13940.000000</td>\n",
       "      <td>13940.000000</td>\n",
       "      <td>5.185000e+03</td>\n",
       "      <td>13940.000000</td>\n",
       "      <td>5497.000000</td>\n",
       "      <td>5.500000e+03</td>\n",
       "      <td>4.500000e+03</td>\n",
       "    </tr>\n",
       "    <tr>\n",
       "      <th>mean</th>\n",
       "      <td>250.511765</td>\n",
       "      <td>2009.537231</td>\n",
       "      <td>4.738633e+04</td>\n",
       "      <td>20225.158016</td>\n",
       "      <td>2501.271621</td>\n",
       "      <td>8.583805e+04</td>\n",
       "      <td>5.736614e+04</td>\n",
       "    </tr>\n",
       "    <tr>\n",
       "      <th>std</th>\n",
       "      <td>144.368022</td>\n",
       "      <td>8.071421</td>\n",
       "      <td>1.245715e+05</td>\n",
       "      <td>35994.023496</td>\n",
       "      <td>5626.509092</td>\n",
       "      <td>2.974978e+05</td>\n",
       "      <td>1.281823e+05</td>\n",
       "    </tr>\n",
       "    <tr>\n",
       "      <th>min</th>\n",
       "      <td>1.000000</td>\n",
       "      <td>1996.000000</td>\n",
       "      <td>5.610000e+00</td>\n",
       "      <td>48.290000</td>\n",
       "      <td>-12650.000000</td>\n",
       "      <td>2.450000e+01</td>\n",
       "      <td>5.200000e+01</td>\n",
       "    </tr>\n",
       "    <tr>\n",
       "      <th>25%</th>\n",
       "      <td>125.000000</td>\n",
       "      <td>2003.000000</td>\n",
       "      <td>5.637000e+03</td>\n",
       "      <td>5806.225000</td>\n",
       "      <td>390.000000</td>\n",
       "      <td>7.653750e+03</td>\n",
       "      <td>1.182075e+04</td>\n",
       "    </tr>\n",
       "    <tr>\n",
       "      <th>50%</th>\n",
       "      <td>250.500000</td>\n",
       "      <td>2010.000000</td>\n",
       "      <td>1.583500e+04</td>\n",
       "      <td>9587.500000</td>\n",
       "      <td>948.000000</td>\n",
       "      <td>1.906700e+04</td>\n",
       "      <td>2.533200e+04</td>\n",
       "    </tr>\n",
       "    <tr>\n",
       "      <th>75%</th>\n",
       "      <td>375.250000</td>\n",
       "      <td>2017.000000</td>\n",
       "      <td>4.269900e+04</td>\n",
       "      <td>19109.000000</td>\n",
       "      <td>2319.000000</td>\n",
       "      <td>5.134875e+04</td>\n",
       "      <td>5.800000e+04</td>\n",
       "    </tr>\n",
       "    <tr>\n",
       "      <th>max</th>\n",
       "      <td>500.000000</td>\n",
       "      <td>2023.000000</td>\n",
       "      <td>2.849538e+06</td>\n",
       "      <td>611289.000000</td>\n",
       "      <td>99803.000000</td>\n",
       "      <td>4.305288e+06</td>\n",
       "      <td>2.300000e+06</td>\n",
       "    </tr>\n",
       "  </tbody>\n",
       "</table>\n",
       "</div>"
      ],
      "text/plain": [
       "               rank          year  market_value_mil    revenue_mil  \\\n",
       "count  13940.000000  13940.000000      5.185000e+03   13940.000000   \n",
       "mean     250.511765   2009.537231      4.738633e+04   20225.158016   \n",
       "std      144.368022      8.071421      1.245715e+05   35994.023496   \n",
       "min        1.000000   1996.000000      5.610000e+00      48.290000   \n",
       "25%      125.000000   2003.000000      5.637000e+03    5806.225000   \n",
       "50%      250.500000   2010.000000      1.583500e+04    9587.500000   \n",
       "75%      375.250000   2017.000000      4.269900e+04   19109.000000   \n",
       "max      500.000000   2023.000000      2.849538e+06  611289.000000   \n",
       "\n",
       "         profit_mil     asset_mil     employees  \n",
       "count   5497.000000  5.500000e+03  4.500000e+03  \n",
       "mean    2501.271621  8.583805e+04  5.736614e+04  \n",
       "std     5626.509092  2.974978e+05  1.281823e+05  \n",
       "min   -12650.000000  2.450000e+01  5.200000e+01  \n",
       "25%      390.000000  7.653750e+03  1.182075e+04  \n",
       "50%      948.000000  1.906700e+04  2.533200e+04  \n",
       "75%     2319.000000  5.134875e+04  5.800000e+04  \n",
       "max    99803.000000  4.305288e+06  2.300000e+06  "
      ]
     },
     "execution_count": 4,
     "metadata": {},
     "output_type": "execute_result"
    }
   ],
   "source": [
    "data.describe()"
   ]
  },
  {
   "cell_type": "code",
   "execution_count": 5,
   "id": "fb73459b-97e4-41bb-b5d0-300b7f91007b",
   "metadata": {},
   "outputs": [
    {
     "data": {
      "text/plain": [
       "Index(['name', 'rank', 'year', 'industry', 'sector', 'headquarters_state',\n",
       "       'headquarters_city', 'market_value_mil', 'revenue_mil', 'profit_mil',\n",
       "       'asset_mil', 'employees', 'founder_is_ceo', 'female_ceo',\n",
       "       'newcomer_to_fortune_500', 'global_500'],\n",
       "      dtype='object')"
      ]
     },
     "execution_count": 5,
     "metadata": {},
     "output_type": "execute_result"
    }
   ],
   "source": [
    "data.columns"
   ]
  },
  {
   "cell_type": "code",
   "execution_count": 6,
   "id": "2405a996-4504-4166-a390-65197c5f9143",
   "metadata": {},
   "outputs": [
    {
     "data": {
      "text/html": [
       "<div>\n",
       "<style scoped>\n",
       "    .dataframe tbody tr th:only-of-type {\n",
       "        vertical-align: middle;\n",
       "    }\n",
       "\n",
       "    .dataframe tbody tr th {\n",
       "        vertical-align: top;\n",
       "    }\n",
       "\n",
       "    .dataframe thead th {\n",
       "        text-align: right;\n",
       "    }\n",
       "</style>\n",
       "<table border=\"1\" class=\"dataframe\">\n",
       "  <thead>\n",
       "    <tr style=\"text-align: right;\">\n",
       "      <th></th>\n",
       "      <th>rank</th>\n",
       "      <th>year</th>\n",
       "      <th>market_value_mil</th>\n",
       "      <th>revenue_mil</th>\n",
       "      <th>profit_mil</th>\n",
       "      <th>asset_mil</th>\n",
       "      <th>employees</th>\n",
       "    </tr>\n",
       "  </thead>\n",
       "  <tbody>\n",
       "    <tr>\n",
       "      <th>0</th>\n",
       "      <td>1</td>\n",
       "      <td>1996</td>\n",
       "      <td>NaN</td>\n",
       "      <td>168828.6</td>\n",
       "      <td>NaN</td>\n",
       "      <td>NaN</td>\n",
       "      <td>NaN</td>\n",
       "    </tr>\n",
       "    <tr>\n",
       "      <th>1</th>\n",
       "      <td>2</td>\n",
       "      <td>1996</td>\n",
       "      <td>NaN</td>\n",
       "      <td>137137.0</td>\n",
       "      <td>NaN</td>\n",
       "      <td>NaN</td>\n",
       "      <td>NaN</td>\n",
       "    </tr>\n",
       "    <tr>\n",
       "      <th>2</th>\n",
       "      <td>3</td>\n",
       "      <td>1996</td>\n",
       "      <td>NaN</td>\n",
       "      <td>110009.0</td>\n",
       "      <td>NaN</td>\n",
       "      <td>NaN</td>\n",
       "      <td>NaN</td>\n",
       "    </tr>\n",
       "    <tr>\n",
       "      <th>3</th>\n",
       "      <td>4</td>\n",
       "      <td>1996</td>\n",
       "      <td>NaN</td>\n",
       "      <td>93627.0</td>\n",
       "      <td>NaN</td>\n",
       "      <td>NaN</td>\n",
       "      <td>NaN</td>\n",
       "    </tr>\n",
       "    <tr>\n",
       "      <th>4</th>\n",
       "      <td>5</td>\n",
       "      <td>1996</td>\n",
       "      <td>NaN</td>\n",
       "      <td>79609.0</td>\n",
       "      <td>NaN</td>\n",
       "      <td>NaN</td>\n",
       "      <td>NaN</td>\n",
       "    </tr>\n",
       "    <tr>\n",
       "      <th>...</th>\n",
       "      <td>...</td>\n",
       "      <td>...</td>\n",
       "      <td>...</td>\n",
       "      <td>...</td>\n",
       "      <td>...</td>\n",
       "      <td>...</td>\n",
       "      <td>...</td>\n",
       "    </tr>\n",
       "    <tr>\n",
       "      <th>13935</th>\n",
       "      <td>496</td>\n",
       "      <td>2023</td>\n",
       "      <td>45225.0</td>\n",
       "      <td>7273.0</td>\n",
       "      <td>841.0</td>\n",
       "      <td>277077.0</td>\n",
       "      <td>4150.0</td>\n",
       "    </tr>\n",
       "    <tr>\n",
       "      <th>13936</th>\n",
       "      <td>497</td>\n",
       "      <td>2023</td>\n",
       "      <td>66873.0</td>\n",
       "      <td>7263.0</td>\n",
       "      <td>704.0</td>\n",
       "      <td>30311.0</td>\n",
       "      <td>12097.0</td>\n",
       "    </tr>\n",
       "    <tr>\n",
       "      <th>13937</th>\n",
       "      <td>498</td>\n",
       "      <td>2023</td>\n",
       "      <td>5975.0</td>\n",
       "      <td>7251.0</td>\n",
       "      <td>466.0</td>\n",
       "      <td>7053.0</td>\n",
       "      <td>22000.0</td>\n",
       "    </tr>\n",
       "    <tr>\n",
       "      <th>13938</th>\n",
       "      <td>499</td>\n",
       "      <td>2023</td>\n",
       "      <td>94338.0</td>\n",
       "      <td>7245.0</td>\n",
       "      <td>325.0</td>\n",
       "      <td>13299.0</td>\n",
       "      <td>20433.0</td>\n",
       "    </tr>\n",
       "    <tr>\n",
       "      <th>13939</th>\n",
       "      <td>500</td>\n",
       "      <td>2023</td>\n",
       "      <td>8677.0</td>\n",
       "      <td>7238.0</td>\n",
       "      <td>658.0</td>\n",
       "      <td>2965.0</td>\n",
       "      <td>16300.0</td>\n",
       "    </tr>\n",
       "  </tbody>\n",
       "</table>\n",
       "<p>13940 rows × 7 columns</p>\n",
       "</div>"
      ],
      "text/plain": [
       "       rank  year  market_value_mil  revenue_mil  profit_mil  asset_mil  \\\n",
       "0         1  1996               NaN     168828.6         NaN        NaN   \n",
       "1         2  1996               NaN     137137.0         NaN        NaN   \n",
       "2         3  1996               NaN     110009.0         NaN        NaN   \n",
       "3         4  1996               NaN      93627.0         NaN        NaN   \n",
       "4         5  1996               NaN      79609.0         NaN        NaN   \n",
       "...     ...   ...               ...          ...         ...        ...   \n",
       "13935   496  2023           45225.0       7273.0       841.0   277077.0   \n",
       "13936   497  2023           66873.0       7263.0       704.0    30311.0   \n",
       "13937   498  2023            5975.0       7251.0       466.0     7053.0   \n",
       "13938   499  2023           94338.0       7245.0       325.0    13299.0   \n",
       "13939   500  2023            8677.0       7238.0       658.0     2965.0   \n",
       "\n",
       "       employees  \n",
       "0            NaN  \n",
       "1            NaN  \n",
       "2            NaN  \n",
       "3            NaN  \n",
       "4            NaN  \n",
       "...          ...  \n",
       "13935     4150.0  \n",
       "13936    12097.0  \n",
       "13937    22000.0  \n",
       "13938    20433.0  \n",
       "13939    16300.0  \n",
       "\n",
       "[13940 rows x 7 columns]"
      ]
     },
     "execution_count": 6,
     "metadata": {},
     "output_type": "execute_result"
    }
   ],
   "source": [
    "df = data[['rank','year','market_value_mil','revenue_mil','profit_mil',\t'asset_mil','employees']]\n",
    "df"
   ]
  },
  {
   "cell_type": "code",
   "execution_count": 7,
   "id": "6193ed40-b030-47f0-89e1-d0438a8787af",
   "metadata": {},
   "outputs": [
    {
     "data": {
      "text/plain": [
       "rank                  250.5\n",
       "year                 2010.0\n",
       "market_value_mil    15835.0\n",
       "revenue_mil          9587.5\n",
       "profit_mil            948.0\n",
       "asset_mil           19067.0\n",
       "employees           25332.0\n",
       "dtype: float64"
      ]
     },
     "execution_count": 7,
     "metadata": {},
     "output_type": "execute_result"
    }
   ],
   "source": [
    "df.median()"
   ]
  },
  {
   "cell_type": "code",
   "execution_count": 8,
   "id": "8b4959f2-f8c6-4716-b19f-2fbb9f66a814",
   "metadata": {},
   "outputs": [
    {
     "data": {
      "text/plain": [
       "250.51176470588234"
      ]
     },
     "execution_count": 8,
     "metadata": {},
     "output_type": "execute_result"
    }
   ],
   "source": [
    "mean = data['rank'].mean()\n",
    "mean"
   ]
  },
  {
   "cell_type": "code",
   "execution_count": 9,
   "id": "a71559aa-8b87-4fe3-8670-8bf6c8ca052d",
   "metadata": {},
   "outputs": [
    {
     "data": {
      "text/plain": [
       "rank                  250.511765\n",
       "year                 2009.537231\n",
       "market_value_mil    47386.331618\n",
       "revenue_mil         20225.158016\n",
       "profit_mil           2501.271621\n",
       "asset_mil           85838.053158\n",
       "employees           57366.143556\n",
       "dtype: float64"
      ]
     },
     "execution_count": 9,
     "metadata": {},
     "output_type": "execute_result"
    }
   ],
   "source": [
    "df.mean()"
   ]
  },
  {
   "cell_type": "code",
   "execution_count": 10,
   "id": "72a8baa7-c0b9-465d-bf47-3b93e690f24a",
   "metadata": {},
   "outputs": [
    {
     "data": {
      "text/plain": [
       "rank                    500.0\n",
       "year                   2023.0\n",
       "market_value_mil    2849538.0\n",
       "revenue_mil          611289.0\n",
       "profit_mil            99803.0\n",
       "asset_mil           4305288.0\n",
       "employees           2300000.0\n",
       "dtype: float64"
      ]
     },
     "execution_count": 10,
     "metadata": {},
     "output_type": "execute_result"
    }
   ],
   "source": [
    "df.max()"
   ]
  },
  {
   "cell_type": "code",
   "execution_count": 11,
   "id": "83b11492-86a9-4edc-96d8-9edd6c6f49ae",
   "metadata": {},
   "outputs": [
    {
     "data": {
      "text/plain": [
       "rank                    1.00\n",
       "year                 1996.00\n",
       "market_value_mil        5.61\n",
       "revenue_mil            48.29\n",
       "profit_mil         -12650.00\n",
       "asset_mil              24.50\n",
       "employees              52.00\n",
       "dtype: float64"
      ]
     },
     "execution_count": 11,
     "metadata": {},
     "output_type": "execute_result"
    }
   ],
   "source": [
    "df.min()"
   ]
  },
  {
   "cell_type": "code",
   "execution_count": 12,
   "id": "9fc31ab2-ca1c-428f-993d-7f35d8b82af0",
   "metadata": {},
   "outputs": [
    {
     "data": {
      "text/plain": [
       "rank                    500.0\n",
       "year                   2023.0\n",
       "market_value_mil    2849538.0\n",
       "revenue_mil          611289.0\n",
       "profit_mil            99803.0\n",
       "asset_mil           4305288.0\n",
       "employees           2300000.0\n",
       "dtype: float64"
      ]
     },
     "execution_count": 12,
     "metadata": {},
     "output_type": "execute_result"
    }
   ],
   "source": [
    "df.max()"
   ]
  },
  {
   "cell_type": "code",
   "execution_count": 13,
   "id": "e327676a-4165-4caa-a64a-95732b15e959",
   "metadata": {},
   "outputs": [
    {
     "data": {
      "text/plain": [
       "rank                   144.368022\n",
       "year                     8.071421\n",
       "market_value_mil    124571.510458\n",
       "revenue_mil          35994.023496\n",
       "profit_mil            5626.509092\n",
       "asset_mil           297497.787033\n",
       "employees           128182.337320\n",
       "dtype: float64"
      ]
     },
     "execution_count": 13,
     "metadata": {},
     "output_type": "execute_result"
    }
   ],
   "source": [
    "df.std()"
   ]
  },
  {
   "cell_type": "code",
   "execution_count": 14,
   "id": "7a04ca8a-1747-41cf-a97d-0ce1740cbb46",
   "metadata": {},
   "outputs": [],
   "source": [
    "import matplotlib.pyplot as plt"
   ]
  },
  {
   "cell_type": "code",
   "execution_count": 15,
   "id": "e2eabf5d-bf36-4bd4-bac8-ffe8cd7f3cfa",
   "metadata": {},
   "outputs": [
    {
     "data": {
      "text/plain": [
       "<function matplotlib.pyplot.show(close=None, block=None)>"
      ]
     },
     "execution_count": 15,
     "metadata": {},
     "output_type": "execute_result"
    },
    {
     "data": {
      "image/png": "[encoded data removed]",
      "text/plain": [
       "<Figure size 640x480 with 1 Axes>"
      ]
     },
     "metadata": {},
     "output_type": "display_data"
    }
   ],
   "source": [
    "x = data['rank']\n",
    "y = data['year']\n",
    "plt.plot(x,y, color='cyan',label = 'Fortune Dataset')\n",
    "plt.xlabel('rank')\n",
    "plt.ylabel('year')\n",
    "plt.legend()\n",
    "plt.show"
   ]
  },
  {
   "cell_type": "code",
   "execution_count": 16,
   "id": "348ab307-cec3-41c8-a5d7-6a56a295f18b",
   "metadata": {},
   "outputs": [
    {
     "data": {
      "text/plain": [
       "rank                  125.000\n",
       "year                 2003.000\n",
       "market_value_mil     5637.000\n",
       "revenue_mil          5806.225\n",
       "profit_mil            390.000\n",
       "asset_mil            7653.750\n",
       "employees           11820.750\n",
       "Name: 0.25, dtype: float64"
      ]
     },
     "execution_count": 16,
     "metadata": {},
     "output_type": "execute_result"
    }
   ],
   "source": [
    "df.quantile(0.25)"
   ]
  },
  {
   "cell_type": "code",
   "execution_count": 17,
   "id": "88acf87d-211b-4bcf-8e35-caddbff9f880",
   "metadata": {},
   "outputs": [
    {
     "data": {
      "text/plain": [
       "rank                  375.25\n",
       "year                 2017.00\n",
       "market_value_mil    42699.00\n",
       "revenue_mil         19109.00\n",
       "profit_mil           2319.00\n",
       "asset_mil           51348.75\n",
       "employees           58000.00\n",
       "Name: 0.75, dtype: float64"
      ]
     },
     "execution_count": 17,
     "metadata": {},
     "output_type": "execute_result"
    }
   ],
   "source": [
    "df.quantile(0.75)"
   ]
  },
  {
   "cell_type": "code",
   "execution_count": 18,
   "id": "defa6b2e",
   "metadata": {},
   "outputs": [
    {
     "name": "stderr",
     "output_type": "stream",
     "text": [
      "C:\\ProgramData\\anaconda3\\Lib\\site-packages\\IPython\\core\\pylabtools.py:152: UserWarning: Glyph 9 (\t) missing from current font.\n",
      "  fig.canvas.print_figure(bytes_io, **kw)\n"
     ]
    },
    {
     "data": {
      "image/png": "[encoded data removed]",
      "text/plain": [
       "<Figure size 640x480 with 1 Axes>"
      ]
     },
     "metadata": {},
     "output_type": "display_data"
    }
   ],
   "source": [
    "y = data[\"revenue_mil\"] \n",
    "x = data[\"year\"]\n",
    "plt.bar(x, y, color ='g', \n",
    "        width = 0.4)\n",
    "plt.ylabel('revenue_mil\t')\n",
    "plt.xlabel('years')\n",
    "plt.show()"
   ]
  },
  {
   "cell_type": "code",
   "execution_count": 19,
   "id": "0fe9f836",
   "metadata": {},
   "outputs": [
    {
     "data": {
      "text/html": [
       "<div>\n",
       "<style scoped>\n",
       "    .dataframe tbody tr th:only-of-type {\n",
       "        vertical-align: middle;\n",
       "    }\n",
       "\n",
       "    .dataframe tbody tr th {\n",
       "        vertical-align: top;\n",
       "    }\n",
       "\n",
       "    .dataframe thead th {\n",
       "        text-align: right;\n",
       "    }\n",
       "</style>\n",
       "<table border=\"1\" class=\"dataframe\">\n",
       "  <thead>\n",
       "    <tr style=\"text-align: right;\">\n",
       "      <th></th>\n",
       "      <th>Id</th>\n",
       "      <th>SepalLengthCm</th>\n",
       "      <th>SepalWidthCm</th>\n",
       "      <th>PetalLengthCm</th>\n",
       "      <th>PetalWidthCm</th>\n",
       "      <th>Species</th>\n",
       "    </tr>\n",
       "  </thead>\n",
       "  <tbody>\n",
       "    <tr>\n",
       "      <th>0</th>\n",
       "      <td>1</td>\n",
       "      <td>5.1</td>\n",
       "      <td>3.5</td>\n",
       "      <td>1.4</td>\n",
       "      <td>0.2</td>\n",
       "      <td>Iris-setosa</td>\n",
       "    </tr>\n",
       "    <tr>\n",
       "      <th>1</th>\n",
       "      <td>2</td>\n",
       "      <td>4.9</td>\n",
       "      <td>3.0</td>\n",
       "      <td>1.4</td>\n",
       "      <td>0.2</td>\n",
       "      <td>Iris-setosa</td>\n",
       "    </tr>\n",
       "    <tr>\n",
       "      <th>2</th>\n",
       "      <td>3</td>\n",
       "      <td>4.7</td>\n",
       "      <td>3.2</td>\n",
       "      <td>1.3</td>\n",
       "      <td>0.2</td>\n",
       "      <td>Iris-setosa</td>\n",
       "    </tr>\n",
       "    <tr>\n",
       "      <th>3</th>\n",
       "      <td>4</td>\n",
       "      <td>4.6</td>\n",
       "      <td>3.1</td>\n",
       "      <td>1.5</td>\n",
       "      <td>0.2</td>\n",
       "      <td>Iris-setosa</td>\n",
       "    </tr>\n",
       "    <tr>\n",
       "      <th>4</th>\n",
       "      <td>5</td>\n",
       "      <td>5.0</td>\n",
       "      <td>3.6</td>\n",
       "      <td>1.4</td>\n",
       "      <td>0.2</td>\n",
       "      <td>Iris-setosa</td>\n",
       "    </tr>\n",
       "    <tr>\n",
       "      <th>...</th>\n",
       "      <td>...</td>\n",
       "      <td>...</td>\n",
       "      <td>...</td>\n",
       "      <td>...</td>\n",
       "      <td>...</td>\n",
       "      <td>...</td>\n",
       "    </tr>\n",
       "    <tr>\n",
       "      <th>145</th>\n",
       "      <td>146</td>\n",
       "      <td>6.7</td>\n",
       "      <td>3.0</td>\n",
       "      <td>5.2</td>\n",
       "      <td>2.3</td>\n",
       "      <td>Iris-virginica</td>\n",
       "    </tr>\n",
       "    <tr>\n",
       "      <th>146</th>\n",
       "      <td>147</td>\n",
       "      <td>6.3</td>\n",
       "      <td>2.5</td>\n",
       "      <td>5.0</td>\n",
       "      <td>1.9</td>\n",
       "      <td>Iris-virginica</td>\n",
       "    </tr>\n",
       "    <tr>\n",
       "      <th>147</th>\n",
       "      <td>148</td>\n",
       "      <td>6.5</td>\n",
       "      <td>3.0</td>\n",
       "      <td>5.2</td>\n",
       "      <td>2.0</td>\n",
       "      <td>Iris-virginica</td>\n",
       "    </tr>\n",
       "    <tr>\n",
       "      <th>148</th>\n",
       "      <td>149</td>\n",
       "      <td>6.2</td>\n",
       "      <td>3.4</td>\n",
       "      <td>5.4</td>\n",
       "      <td>2.3</td>\n",
       "      <td>Iris-virginica</td>\n",
       "    </tr>\n",
       "    <tr>\n",
       "      <th>149</th>\n",
       "      <td>150</td>\n",
       "      <td>5.9</td>\n",
       "      <td>3.0</td>\n",
       "      <td>5.1</td>\n",
       "      <td>1.8</td>\n",
       "      <td>Iris-virginica</td>\n",
       "    </tr>\n",
       "  </tbody>\n",
       "</table>\n",
       "<p>150 rows × 6 columns</p>\n",
       "</div>"
      ],
      "text/plain": [
       "      Id  SepalLengthCm  SepalWidthCm  PetalLengthCm  PetalWidthCm  \\\n",
       "0      1            5.1           3.5            1.4           0.2   \n",
       "1      2            4.9           3.0            1.4           0.2   \n",
       "2      3            4.7           3.2            1.3           0.2   \n",
       "3      4            4.6           3.1            1.5           0.2   \n",
       "4      5            5.0           3.6            1.4           0.2   \n",
       "..   ...            ...           ...            ...           ...   \n",
       "145  146            6.7           3.0            5.2           2.3   \n",
       "146  147            6.3           2.5            5.0           1.9   \n",
       "147  148            6.5           3.0            5.2           2.0   \n",
       "148  149            6.2           3.4            5.4           2.3   \n",
       "149  150            5.9           3.0            5.1           1.8   \n",
       "\n",
       "            Species  \n",
       "0       Iris-setosa  \n",
       "1       Iris-setosa  \n",
       "2       Iris-setosa  \n",
       "3       Iris-setosa  \n",
       "4       Iris-setosa  \n",
       "..              ...  \n",
       "145  Iris-virginica  \n",
       "146  Iris-virginica  \n",
       "147  Iris-virginica  \n",
       "148  Iris-virginica  \n",
       "149  Iris-virginica  \n",
       "\n",
       "[150 rows x 6 columns]"
      ]
     },
     "execution_count": 19,
     "metadata": {},
     "output_type": "execute_result"
    }
   ],
   "source": [
    "d1 = pd.read_csv(\"iris.csv\")\n",
    "d1"
   ]
  },
  {
   "cell_type": "code",
   "execution_count": 20,
   "id": "0944db5b",
   "metadata": {},
   "outputs": [
    {
     "data": {
      "text/plain": [
       "Index(['Id', 'SepalLengthCm', 'SepalWidthCm', 'PetalLengthCm', 'PetalWidthCm',\n",
       "       'Species'],\n",
       "      dtype='object')"
      ]
     },
     "execution_count": 20,
     "metadata": {},
     "output_type": "execute_result"
    }
   ],
   "source": [
    "d1.columns"
   ]
  },
  {
   "cell_type": "code",
   "execution_count": 21,
   "id": "ec0b6827",
   "metadata": {},
   "outputs": [
    {
     "name": "stdout",
     "output_type": "stream",
     "text": [
      "<class 'pandas.core.frame.DataFrame'>\n",
      "RangeIndex: 150 entries, 0 to 149\n",
      "Data columns (total 6 columns):\n",
      " #   Column         Non-Null Count  Dtype  \n",
      "---  ------         --------------  -----  \n",
      " 0   Id             150 non-null    int64  \n",
      " 1   SepalLengthCm  150 non-null    float64\n",
      " 2   SepalWidthCm   150 non-null    float64\n",
      " 3   PetalLengthCm  150 non-null    float64\n",
      " 4   PetalWidthCm   150 non-null    float64\n",
      " 5   Species        150 non-null    object \n",
      "dtypes: float64(4), int64(1), object(1)\n",
      "memory usage: 7.2+ KB\n"
     ]
    }
   ],
   "source": [
    "d1.info()"
   ]
  },
  {
   "cell_type": "code",
   "execution_count": 22,
   "id": "b8ea46b1",
   "metadata": {},
   "outputs": [
    {
     "data": {
      "text/plain": [
       "(150, 6)"
      ]
     },
     "execution_count": 22,
     "metadata": {},
     "output_type": "execute_result"
    }
   ],
   "source": [
    "d1.shape"
   ]
  },
  {
   "cell_type": "code",
   "execution_count": 23,
   "id": "42877cae",
   "metadata": {},
   "outputs": [
    {
     "name": "stdout",
     "output_type": "stream",
     "text": [
      "150\n"
     ]
    }
   ],
   "source": [
    "print(len(d1))"
   ]
  },
  {
   "cell_type": "code",
   "execution_count": 24,
   "id": "8675e569",
   "metadata": {},
   "outputs": [
    {
     "data": {
      "text/html": [
       "<div>\n",
       "<style scoped>\n",
       "    .dataframe tbody tr th:only-of-type {\n",
       "        vertical-align: middle;\n",
       "    }\n",
       "\n",
       "    .dataframe tbody tr th {\n",
       "        vertical-align: top;\n",
       "    }\n",
       "\n",
       "    .dataframe thead th {\n",
       "        text-align: right;\n",
       "    }\n",
       "</style>\n",
       "<table border=\"1\" class=\"dataframe\">\n",
       "  <thead>\n",
       "    <tr style=\"text-align: right;\">\n",
       "      <th></th>\n",
       "      <th>Id</th>\n",
       "      <th>SepalLengthCm</th>\n",
       "      <th>SepalWidthCm</th>\n",
       "      <th>PetalLengthCm</th>\n",
       "      <th>PetalWidthCm</th>\n",
       "    </tr>\n",
       "  </thead>\n",
       "  <tbody>\n",
       "    <tr>\n",
       "      <th>count</th>\n",
       "      <td>150.000000</td>\n",
       "      <td>150.000000</td>\n",
       "      <td>150.000000</td>\n",
       "      <td>150.000000</td>\n",
       "      <td>150.000000</td>\n",
       "    </tr>\n",
       "    <tr>\n",
       "      <th>mean</th>\n",
       "      <td>75.500000</td>\n",
       "      <td>5.843333</td>\n",
       "      <td>3.054000</td>\n",
       "      <td>3.758667</td>\n",
       "      <td>1.198667</td>\n",
       "    </tr>\n",
       "    <tr>\n",
       "      <th>std</th>\n",
       "      <td>43.445368</td>\n",
       "      <td>0.828066</td>\n",
       "      <td>0.433594</td>\n",
       "      <td>1.764420</td>\n",
       "      <td>0.763161</td>\n",
       "    </tr>\n",
       "    <tr>\n",
       "      <th>min</th>\n",
       "      <td>1.000000</td>\n",
       "      <td>4.300000</td>\n",
       "      <td>2.000000</td>\n",
       "      <td>1.000000</td>\n",
       "      <td>0.100000</td>\n",
       "    </tr>\n",
       "    <tr>\n",
       "      <th>25%</th>\n",
       "      <td>38.250000</td>\n",
       "      <td>5.100000</td>\n",
       "      <td>2.800000</td>\n",
       "      <td>1.600000</td>\n",
       "      <td>0.300000</td>\n",
       "    </tr>\n",
       "    <tr>\n",
       "      <th>50%</th>\n",
       "      <td>75.500000</td>\n",
       "      <td>5.800000</td>\n",
       "      <td>3.000000</td>\n",
       "      <td>4.350000</td>\n",
       "      <td>1.300000</td>\n",
       "    </tr>\n",
       "    <tr>\n",
       "      <th>75%</th>\n",
       "      <td>112.750000</td>\n",
       "      <td>6.400000</td>\n",
       "      <td>3.300000</td>\n",
       "      <td>5.100000</td>\n",
       "      <td>1.800000</td>\n",
       "    </tr>\n",
       "    <tr>\n",
       "      <th>max</th>\n",
       "      <td>150.000000</td>\n",
       "      <td>7.900000</td>\n",
       "      <td>4.400000</td>\n",
       "      <td>6.900000</td>\n",
       "      <td>2.500000</td>\n",
       "    </tr>\n",
       "  </tbody>\n",
       "</table>\n",
       "</div>"
      ],
      "text/plain": [
       "               Id  SepalLengthCm  SepalWidthCm  PetalLengthCm  PetalWidthCm\n",
       "count  150.000000     150.000000    150.000000     150.000000    150.000000\n",
       "mean    75.500000       5.843333      3.054000       3.758667      1.198667\n",
       "std     43.445368       0.828066      0.433594       1.764420      0.763161\n",
       "min      1.000000       4.300000      2.000000       1.000000      0.100000\n",
       "25%     38.250000       5.100000      2.800000       1.600000      0.300000\n",
       "50%     75.500000       5.800000      3.000000       4.350000      1.300000\n",
       "75%    112.750000       6.400000      3.300000       5.100000      1.800000\n",
       "max    150.000000       7.900000      4.400000       6.900000      2.500000"
      ]
     },
     "execution_count": 24,
     "metadata": {},
     "output_type": "execute_result"
    }
   ],
   "source": [
    "d1.describe()"
   ]
  },
  {
   "cell_type": "code",
   "execution_count": 25,
   "id": "50a159b4",
   "metadata": {},
   "outputs": [
    {
     "data": {
      "text/plain": [
       "0         Iris-setosa\n",
       "1         Iris-setosa\n",
       "2         Iris-setosa\n",
       "3         Iris-setosa\n",
       "4         Iris-setosa\n",
       "            ...      \n",
       "145    Iris-virginica\n",
       "146    Iris-virginica\n",
       "147    Iris-virginica\n",
       "148    Iris-virginica\n",
       "149    Iris-virginica\n",
       "Name: Species, Length: 150, dtype: object"
      ]
     },
     "execution_count": 25,
     "metadata": {},
     "output_type": "execute_result"
    }
   ],
   "source": [
    "d1['Species']"
   ]
  },
  {
   "cell_type": "code",
   "execution_count": 26,
   "id": "448f7cbb",
   "metadata": {},
   "outputs": [
    {
     "data": {
      "text/plain": [
       "3.758666666666666"
      ]
     },
     "execution_count": 26,
     "metadata": {},
     "output_type": "execute_result"
    }
   ],
   "source": [
    "mean = d1['PetalLengthCm'].mean()\n",
    "mean"
   ]
  },
  {
   "cell_type": "code",
   "execution_count": 27,
   "id": "476c7e75",
   "metadata": {},
   "outputs": [
    {
     "data": {
      "text/plain": [
       "1.464"
      ]
     },
     "execution_count": 27,
     "metadata": {},
     "output_type": "execute_result"
    }
   ],
   "source": [
    "data_Irissetosa = d1[d1['Species'] == 'Iris-setosa']\n",
    "# data_Irissetosa.describe()\n",
    "data_Irissetosa['PetalLengthCm'].mean()"
   ]
  },
  {
   "cell_type": "code",
   "execution_count": 28,
   "id": "f3b549b6",
   "metadata": {},
   "outputs": [
    {
     "data": {
      "text/plain": [
       "1.5"
      ]
     },
     "execution_count": 28,
     "metadata": {},
     "output_type": "execute_result"
    }
   ],
   "source": [
    "data_Irissetosa['PetalLengthCm'].median()"
   ]
  },
  {
   "cell_type": "code",
   "execution_count": 29,
   "id": "e6a9bc74",
   "metadata": {},
   "outputs": [
    {
     "data": {
      "text/plain": [
       "0    1.5\n",
       "Name: PetalLengthCm, dtype: float64"
      ]
     },
     "execution_count": 29,
     "metadata": {},
     "output_type": "execute_result"
    }
   ],
   "source": [
    "data_Irissetosa['PetalLengthCm'].mode()"
   ]
  },
  {
   "cell_type": "code",
   "execution_count": 30,
   "id": "8d6406c0",
   "metadata": {},
   "outputs": [
    {
     "data": {
      "text/plain": [
       "nan"
      ]
     },
     "execution_count": 30,
     "metadata": {},
     "output_type": "execute_result"
    }
   ],
   "source": [
    "data_Irisvirginica = d1[d1['Species'] == 'Irisvirginica']\n",
    "# data_Irisvirginica.describe()\n",
    "data_Irisvirginica['PetalLengthCm'].mean()"
   ]
  },
  {
   "cell_type": "code",
   "execution_count": 31,
   "id": "6c4ef9d0",
   "metadata": {},
   "outputs": [
    {
     "data": {
      "text/plain": [
       "nan"
      ]
     },
     "execution_count": 31,
     "metadata": {},
     "output_type": "execute_result"
    }
   ],
   "source": [
    "data_Irisvirginica['PetalLengthCm'].median()"
   ]
  },
  {
   "cell_type": "code",
   "execution_count": 32,
   "id": "c632f6cd",
   "metadata": {},
   "outputs": [
    {
     "data": {
      "text/plain": [
       "Series([], Name: PetalLengthCm, dtype: float64)"
      ]
     },
     "execution_count": 32,
     "metadata": {},
     "output_type": "execute_result"
    }
   ],
   "source": [
    "data_Irisvirginica['PetalLengthCm'].mode()"
   ]
  },
  {
   "cell_type": "code",
   "execution_count": 33,
   "id": "bbef72d9",
   "metadata": {},
   "outputs": [
    {
     "name": "stdout",
     "output_type": "stream",
     "text": [
      "    Id  SepalLengthCm  SepalWidthCm  PetalLengthCm  PetalWidthCm      Species\n",
      "0    1            5.1           3.5            1.4           0.2  Iris-setosa\n",
      "1    2            4.9           3.0            1.4           0.2  Iris-setosa\n",
      "2    3            4.7           3.2            1.3           0.2  Iris-setosa\n",
      "3    4            4.6           3.1            1.5           0.2  Iris-setosa\n",
      "4    5            5.0           3.6            1.4           0.2  Iris-setosa\n",
      "5    6            5.4           3.9            1.7           0.4  Iris-setosa\n",
      "6    7            4.6           3.4            1.4           0.3  Iris-setosa\n",
      "7    8            5.0           3.4            1.5           0.2  Iris-setosa\n",
      "8    9            4.4           2.9            1.4           0.2  Iris-setosa\n",
      "9   10            4.9           3.1            1.5           0.1  Iris-setosa\n",
      "10  11            5.4           3.7            1.5           0.2  Iris-setosa\n",
      "11  12            4.8           3.4            1.6           0.2  Iris-setosa\n",
      "12  13            4.8           3.0            1.4           0.1  Iris-setosa\n",
      "13  14            4.3           3.0            1.1           0.1  Iris-setosa\n",
      "14  15            5.8           4.0            1.2           0.2  Iris-setosa\n",
      "15  16            5.7           4.4            1.5           0.4  Iris-setosa\n",
      "16  17            5.4           3.9            1.3           0.4  Iris-setosa\n",
      "17  18            5.1           3.5            1.4           0.3  Iris-setosa\n",
      "18  19            5.7           3.8            1.7           0.3  Iris-setosa\n",
      "19  20            5.1           3.8            1.5           0.3  Iris-setosa\n",
      "20  21            5.4           3.4            1.7           0.2  Iris-setosa\n",
      "21  22            5.1           3.7            1.5           0.4  Iris-setosa\n",
      "22  23            4.6           3.6            1.0           0.2  Iris-setosa\n",
      "23  24            5.1           3.3            1.7           0.5  Iris-setosa\n",
      "24  25            4.8           3.4            1.9           0.2  Iris-setosa\n",
      "25  26            5.0           3.0            1.6           0.2  Iris-setosa\n",
      "26  27            5.0           3.4            1.6           0.4  Iris-setosa\n",
      "27  28            5.2           3.5            1.5           0.2  Iris-setosa\n",
      "28  29            5.2           3.4            1.4           0.2  Iris-setosa\n",
      "29  30            4.7           3.2            1.6           0.2  Iris-setosa\n",
      "30  31            4.8           3.1            1.6           0.2  Iris-setosa\n",
      "31  32            5.4           3.4            1.5           0.4  Iris-setosa\n",
      "32  33            5.2           4.1            1.5           0.1  Iris-setosa\n",
      "33  34            5.5           4.2            1.4           0.2  Iris-setosa\n",
      "34  35            4.9           3.1            1.5           0.1  Iris-setosa\n",
      "35  36            5.0           3.2            1.2           0.2  Iris-setosa\n",
      "36  37            5.5           3.5            1.3           0.2  Iris-setosa\n",
      "37  38            4.9           3.1            1.5           0.1  Iris-setosa\n",
      "38  39            4.4           3.0            1.3           0.2  Iris-setosa\n",
      "39  40            5.1           3.4            1.5           0.2  Iris-setosa\n",
      "40  41            5.0           3.5            1.3           0.3  Iris-setosa\n",
      "41  42            4.5           2.3            1.3           0.3  Iris-setosa\n",
      "42  43            4.4           3.2            1.3           0.2  Iris-setosa\n",
      "43  44            5.0           3.5            1.6           0.6  Iris-setosa\n",
      "44  45            5.1           3.8            1.9           0.4  Iris-setosa\n",
      "45  46            4.8           3.0            1.4           0.3  Iris-setosa\n",
      "46  47            5.1           3.8            1.6           0.2  Iris-setosa\n",
      "47  48            4.6           3.2            1.4           0.2  Iris-setosa\n",
      "48  49            5.3           3.7            1.5           0.2  Iris-setosa\n",
      "49  50            5.0           3.3            1.4           0.2  Iris-setosa\n"
     ]
    }
   ],
   "source": [
    "print(data_Irissetosa)"
   ]
  },
  {
   "cell_type": "code",
   "execution_count": 34,
   "id": "af54bef2",
   "metadata": {},
   "outputs": [
    {
     "name": "stdout",
     "output_type": "stream",
     "text": [
      "Empty DataFrame\n",
      "Columns: [Id, SepalLengthCm, SepalWidthCm, PetalLengthCm, PetalWidthCm, Species]\n",
      "Index: []\n"
     ]
    }
   ],
   "source": [
    "print(data_Irisvirginica)"
   ]
  }
 ],
 "metadata": {
  "kernelspec": {
   "display_name": "Python 3 (ipykernel)",
   "language": "python",
   "name": "python3"
  },
  "language_info": {
   "codemirror_mode": {
    "name": "ipython",
    "version": 3
   },
   "file_extension": ".py",
   "mimetype": "text/x-python",
   "name": "python",
   "nbconvert_exporter": "python",
   "pygments_lexer": "ipython3",
   "version": "3.11.5"
  }
 },
 "nbformat": 4,
 "nbformat_minor": 5
}
